{
 "cells": [
  {
   "cell_type": "code",
   "execution_count": null,
   "metadata": {},
   "outputs": [
    {
     "name": "stdout",
     "output_type": "stream",
     "text": [
      "dict_keys(['kind', 'etag', 'nextPageToken', 'regionCode', 'pageInfo', 'items'])\n"
     ]
    },
    {
     "ename": "TypeError",
     "evalue": "list indices must be integers or slices, not dict",
     "output_type": "error",
     "traceback": [
      "\u001b[1;31m---------------------------------------------------------------------------\u001b[0m",
      "\u001b[1;31mTypeError\u001b[0m                                 Traceback (most recent call last)",
      "Cell \u001b[1;32mIn[26], line 42\u001b[0m\n\u001b[0;32m     40\u001b[0m \u001b[38;5;28mprint\u001b[39m(test\u001b[38;5;241m.\u001b[39mkeys())\n\u001b[0;32m     41\u001b[0m \u001b[38;5;28;01mfor\u001b[39;00m i \u001b[38;5;129;01min\u001b[39;00m test[\u001b[38;5;124m'\u001b[39m\u001b[38;5;124mitems\u001b[39m\u001b[38;5;124m'\u001b[39m]:\n\u001b[1;32m---> 42\u001b[0m     \u001b[38;5;28mprint\u001b[39m(\u001b[43mtest\u001b[49m\u001b[43m[\u001b[49m\u001b[38;5;124;43m'\u001b[39;49m\u001b[38;5;124;43mitems\u001b[39;49m\u001b[38;5;124;43m'\u001b[39;49m\u001b[43m]\u001b[49m\u001b[43m[\u001b[49m\u001b[43mi\u001b[49m\u001b[43m]\u001b[49m[\u001b[38;5;124m'\u001b[39m\u001b[38;5;124mid\u001b[39m\u001b[38;5;124m'\u001b[39m])\n",
      "\u001b[1;31mTypeError\u001b[0m: list indices must be integers or slices, not dict"
     ]
    }
   ],
   "source": [
    "'''\n",
    "In this problem, you will capture data that includes unstructured text and you will serve as a consultant analyzing this unstructured data using Natural Language Processing tools.\n",
    "There are many choices as to how you may do this. \n",
    "\n",
    "Minimum specifications:\n",
    "Identify a company to serve in this assignment. Their data should be part of the dataset you capture. Either...\n",
    "Find an API for download, or... \n",
    "\n",
    "A website where you can scrape a significant number of records (say 500 scraping, 1000 API) of text and other data about your company/product/service.\n",
    "Join at least two different datasets together (these could be multiple pages of web scraping or separate API requests for a product versus its competitor\n",
    "\n",
    "Create an analysis of unstructured data for your company/product and competitors using Python:\n",
    "\n",
    "Help us to understand what is being said about your company/product in the unstructured data (I will demo both API and screen scraping).\n",
    "Use natural language processing transformers to better access the MEANING of what the users are saying (ie. Word2Vec or Doc2Vec models).\n",
    "Create visuals and write explanations in a professional report that shows your findings.\n",
    "'''\n",
    "\n",
    "import pandas as pd\n",
    "import matplotlib.pyplot as plt\n",
    "import os\n",
    "import statsmodels.api as sm\n",
    "from googleapiclient.discovery import build\n",
    "\n",
    "current_directory = os.getcwd()\n",
    "directory = \"\"\n",
    "if current_directory[9:14] == 'vgwis':\n",
    "    directory = \"C:/Users/vgwis/Documents/Bana780/\"\n",
    "else:\n",
    "    directory = \"C:/Users/vgwcto/Documents/Python/Bana780/\"\n",
    "\n",
    "api_key = pd.read_csv(directory + 'key.csv').columns[0]\n",
    "\n",
    "youtube = build('youtube', 'v3', developerKey = api_key)\n",
    "\n",
    "request = youtube.search().list(part = \"snippet\", q = \"Learn to speak Mandarin\", type = \"video\", maxResults = 50)\n",
    "\n",
    "test = request.execute()\n",
    "\n",
    "print(test.keys())\n",
    "for i in test['items']:\n",
    "    print(i)\n"
   ]
  }
 ],
 "metadata": {
  "kernelspec": {
   "display_name": "Python 3",
   "language": "python",
   "name": "python3"
  },
  "language_info": {
   "codemirror_mode": {
    "name": "ipython",
    "version": 3
   },
   "file_extension": ".py",
   "mimetype": "text/x-python",
   "name": "python",
   "nbconvert_exporter": "python",
   "pygments_lexer": "ipython3",
   "version": "3.13.2"
  }
 },
 "nbformat": 4,
 "nbformat_minor": 2
}
