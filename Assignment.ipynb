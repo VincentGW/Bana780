{
 "cells": [
  {
   "cell_type": "code",
   "execution_count": null,
   "metadata": {},
   "outputs": [],
   "source": [
    "'''\n",
    "In this problem, you will capture data that includes unstructured text and you will serve as a consultant analyzing this unstructured data using Natural Language Processing tools.\n",
    "There are many choices as to how you may do this. \n",
    "\n",
    "Minimum specifications:\n",
    "Identify a company to serve in this assignment. Their data should be part of the dataset you capture. Either...\n",
    "Find an API for download, or... \n",
    "\n",
    "A website where you can scrape a significant number of records (say 500 scraping, 1000 API) of text and other data about your company/product/service.\n",
    "Join at least two different datasets together (these could be multiple pages of web scraping or separate API requests for a product versus its competitor\n",
    "\n",
    "Create an analysis of unstructured data for your company/product and competitors using Python:\n",
    "\n",
    "Help us to understand what is being said about your company/product in the unstructured data (I will demo both API and screen scraping).\n",
    "Use natural language processing transformers to better access the MEANING of what the users are saying (ie. Word2Vec or Doc2Vec models).\n",
    "Create visuals and write explanations in a professional report that shows your findings.\n",
    "'''\n",
    "\n",
    "import pandas as pd\n",
    "import matplotlib.pyplot as plt\n",
    "import os\n",
    "import statsmodels.api as sm\n",
    "\n",
    "current_directory = os.getcwd()\n",
    "directory = \"\"\n",
    "if current_directory[9:14] == 'vgwis':\n",
    "    directory = \"C:/Users/vgwis/Documents/Bana780\"\n",
    "else:\n",
    "    directory = \"C:/Users/vgwcto/Documents/Python/Bana780\"\n",
    "\n",
    "#Import\n",
    "df = pd.read_csv(os.path.join(directory, \"Claims.csv\"))\n"
   ]
  }
 ],
 "metadata": {
  "kernelspec": {
   "display_name": "Python 3",
   "language": "python",
   "name": "python3"
  },
  "language_info": {
   "codemirror_mode": {
    "name": "ipython",
    "version": 3
   },
   "file_extension": ".py",
   "mimetype": "text/x-python",
   "name": "python",
   "nbconvert_exporter": "python",
   "pygments_lexer": "ipython3",
   "version": "3.13.2"
  }
 },
 "nbformat": 4,
 "nbformat_minor": 2
}
