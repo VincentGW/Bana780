{
 "cells": [
  {
   "cell_type": "code",
   "execution_count": 2,
   "metadata": {},
   "outputs": [
    {
     "name": "stdout",
     "output_type": "stream",
     "text": [
      "MemberID  PlaceSvc           \n",
      "210       Office                 12\n",
      "          Independent Lab         4\n",
      "          Urgent Care             2\n",
      "3197      Office                 17\n",
      "          Independent Lab         2\n",
      "                                 ..\n",
      "99997895  Independent Lab         7\n",
      "          Office                  7\n",
      "99998627  Outpatient Hospital     5\n",
      "          Office                  3\n",
      "          Independent Lab         2\n",
      "Name: count, Length: 213383, dtype: int64\n"
     ]
    }
   ],
   "source": [
    "import pandas as pd\n",
    "\n",
    "df = pd.read_csv(\"C:/Users/vgwis/Documents/Bana780/Claims.csv\")\n",
    "#Y1 = df.query(\"Year == 'Y1' | Specialty == 'Surgery'\")\n",
    "#print(Y1)\n",
    "\n",
    "df2 = pd.read_csv(\"C:/Users/vgwis/Documents/Bana780/DaysInHospital_Y2.csv\")\n",
    "#print(df2)\n",
    "\n",
    "Clean_Y1 = df[df['MemberID'].isin(df2['MemberID'])]\n",
    "\n",
    "print(Clean_Y1.groupby('MemberID')['PlaceSvc'].value_counts())\n",
    "\n",
    "m = 33"
   ]
  }
 ],
 "metadata": {
  "kernelspec": {
   "display_name": "Python 3",
   "language": "python",
   "name": "python3"
  },
  "language_info": {
   "codemirror_mode": {
    "name": "ipython",
    "version": 3
   },
   "file_extension": ".py",
   "mimetype": "text/x-python",
   "name": "python",
   "nbconvert_exporter": "python",
   "pygments_lexer": "ipython3",
   "version": "3.13.2"
  }
 },
 "nbformat": 4,
 "nbformat_minor": 2
}
