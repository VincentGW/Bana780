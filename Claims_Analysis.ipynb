{
 "cells": [
  {
   "cell_type": "code",
   "execution_count": null,
   "metadata": {},
   "outputs": [
    {
     "name": "stdout",
     "output_type": "stream",
     "text": [
      "Series([], Name: count, dtype: int64) \n",
      "\n"
     ]
    }
   ],
   "source": [
    "'''\n",
    "In Problem 2, you will prepare data for predictive modeling.\n",
    "Specifically, you will look for transformations to the provided data that will make better models.\n",
    "\n",
    "Create a summary report to share this information with a non-technical business audience:\n",
    "\n",
    "- Identify variables that are unimportant and can be dropped.\n",
    "- Identify problems with the dataset (missing values, outliers, mistakes) and document how you address them.\n",
    "- Transform specific variables to make them better for analysis (this could be combining categories, converting datatypes, etc).\n",
    "- Create any new features that might be beneficial. \n",
    "- For each of the above, write a brief note explaining why this is a good thing to do to non-technical person.  \n",
    "- Run a regression analysis to see how well your transformed dataset predicts days in hospital (Y2\n",
    ").\n",
    "'''\n",
    "\n",
    "import pandas as pd\n",
    "import matplotlib.pyplot as plt\n",
    "\n",
    "#claims = pd.read_csv(\"C:/Users/vgwis/Documents/Bana780/Claims.csv\")\n",
    "claims = pd.read_csv(\"C:/Users/vgwcto/Documents/Python/Bana780/Claims.csv\")\n",
    "Y1 = claims[claims['Year'] == 'Y1'].drop(columns=['Vendor'])\n",
    "#'MemberID', 'ProviderID', 'PCP', 'Year', 'Specialty', 'PlaceSvc', 'PayDelay', 'LengthOfStay', 'DSFS', \n",
    "#'PrimaryConditionGroup', 'CharlsonIndex', 'ProcedureGroup', 'SupLOS'\n",
    "\n",
    "\n",
    "#drug = pd.read_csv(\"C:/Users/vgwis/Documents/Bana780/DrugCount.csv\")\n",
    "drug = pd.read_csv(\"C:/Users/vgwcto/Documents/Python/Bana780/DrugCount.csv\")\n",
    "\n",
    "#lab = pd.read_csv(\"C:/Users/vgwis/Documents/Bana780/LabCount.csv\")\n",
    "lab = pd.read_csv(\"C:/Users/vgwcto/Documents/Python/Bana780/LabCount.csv\")\n",
    "\n",
    "#condition = pd.read_csv(\"C:/Users/vgwis/Documents/Bana780/Lookup PrimaryConditionGroup.csv\")\n",
    "condition = pd.read_csv(\"C:/Users/vgwcto/Documents/Python/Bana780/Lookup PrimaryConditionGroup.csv\")\n",
    "\n",
    "#procedure = pd.read_csv(\"C:/Users/vgwis/Documents/Bana780/Lookup ProcedureGroup.csv\")\n",
    "procedure = pd.read_csv(\"C:/Users/vgwcto/Documents/Python/Bana780/Lookup ProcedureGroup.csv\")\n",
    "\n",
    "#members = pd.read_csv(\"C:/Users/vgwis/Documents/Bana780/Members.csv\")\n",
    "members = pd.read_csv(\"C:/Users/vgwcto/Documents/Python/Bana780/Members.csv\")\n",
    "#'MemberID', 'AgeAtFirstClaim', 'Sex'\n",
    "\n",
    "#target = pd.read_csv(\"C:/Users/vgwis/Documents/Bana780/Target.csv\")\n",
    "target = pd.read_csv(\"C:/Users/vgwcto/Documents/Python/Bana780/Target.csv\")\n",
    "'''\n",
    "specialty = Y1.groupby('Specialty')['PlaceSvc']\n",
    "\n",
    "print(Y1['Specialty'].value_counts(dropna=False), '\\n')\n",
    "print(Y1['PCP'].value_counts(dropna=False), '\\n')\n",
    "print(Y1['PlaceSvc'].value_counts(dropna=False), '\\n')\n",
    "print(Y1['LengthOfStay'].value_counts(dropna=False), '\\n')\n",
    "print(Y1['PayDelay'].apply(lambda x: 162 if x == \"162+\" else x))\n",
    "print(Y1['PrimaryConditionGroup'].value_counts(dropna=False), '\\n')\n",
    "print(Y1['CharlsonIndex'].value_counts(dropna=False), '\\n')\n",
    "print(Y1['ProcedureGroup'].value_counts(dropna=False), '\\n')\n",
    "print(Y1['SupLOS'].value_counts(dropna=False), '\\n')\n",
    "\n",
    "#days = pd.read_csv(\"C:/Users/vgwis/Documents/Bana780/DaysInHospital_Y2.csv\")\n",
    "#Clean_Y1 = Y1[Y1['MemberID'].isin(days['MemberID'])]\n",
    "#print(Clean_Y1.groupby('MemberID')['PlaceSvc'].value_counts())\n",
    "'''\n",
    "pd.set_option('display.max_rows', None)\n",
    "print(target, '\\n')\n",
    "pd.reset_option('display.max_rows', None)"
   ]
  }
 ],
 "metadata": {
  "kernelspec": {
   "display_name": "Python 3",
   "language": "python",
   "name": "python3"
  },
  "language_info": {
   "codemirror_mode": {
    "name": "ipython",
    "version": 3
   },
   "file_extension": ".py",
   "mimetype": "text/x-python",
   "name": "python",
   "nbconvert_exporter": "python",
   "pygments_lexer": "ipython3",
   "version": "3.12.9"
  }
 },
 "nbformat": 4,
 "nbformat_minor": 2
}
