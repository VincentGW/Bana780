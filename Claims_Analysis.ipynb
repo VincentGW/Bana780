{
 "cells": [
  {
   "cell_type": "code",
   "execution_count": null,
   "metadata": {},
   "outputs": [
    {
     "name": "stdout",
     "output_type": "stream",
     "text": [
      "MemberID  PlaceSvc           \n",
      "210       Office                 12\n",
      "          Independent Lab         4\n",
      "          Urgent Care             2\n",
      "3197      Office                 17\n",
      "          Independent Lab         2\n",
      "                                 ..\n",
      "99997895  Independent Lab         7\n",
      "          Office                  7\n",
      "99998627  Outpatient Hospital     5\n",
      "          Office                  3\n",
      "          Independent Lab         2\n",
      "Name: count, Length: 213383, dtype: int64\n"
     ]
    }
   ],
   "source": [
    "'''\n",
    "In Problem 2, you will prepare data for predictive modeling.\n",
    "Specifically, you will look for transformations to the provided data that will make better models.\n",
    "\n",
    "Create a summary report to share this information with a non-technical business audience:\n",
    "\n",
    "- Identify variables that are unimportant and can be dropped.\n",
    "- Identify problems with the dataset (missing values, outliers, mistakes) and document how you address them.\n",
    "- Transform specific variables to make them better for analysis (this could be combining categories, converting datatypes, etc).\n",
    "- Create any new features that might be beneficial. \n",
    "- For each of the above, write a brief note explaining why this is a good thing to do to non-technical person.  \n",
    "- Run a regression analysis to see how well your transformed dataset predicts days in hospital.\n",
    "'''\n",
    "import pandas as pd\n",
    "\n",
    "df = pd.read_csv(\"C:/Users/vgwis/Documents/Bana780/Claims.csv\")\n",
    "#Y1 = df.query(\"Year == 'Y1' | Specialty == 'Surgery'\")\n",
    "#print(Y1)\n",
    "\n",
    "df2 = pd.read_csv(\"C:/Users/vgwis/Documents/Bana780/DaysInHospital_Y2.csv\")\n",
    "#print(df2)\n",
    "\n",
    "Clean_Y1 = df[df['MemberID'].isin(df2['MemberID'])]\n",
    "\n",
    "print(Clean_Y1.groupby('MemberID')['PlaceSvc'].value_counts())"
   ]
  }
 ],
 "metadata": {
  "kernelspec": {
   "display_name": "Python 3",
   "language": "python",
   "name": "python3"
  },
  "language_info": {
   "codemirror_mode": {
    "name": "ipython",
    "version": 3
   },
   "file_extension": ".py",
   "mimetype": "text/x-python",
   "name": "python",
   "nbconvert_exporter": "python",
   "pygments_lexer": "ipython3",
   "version": "3.13.2"
  }
 },
 "nbformat": 4,
 "nbformat_minor": 2
}
